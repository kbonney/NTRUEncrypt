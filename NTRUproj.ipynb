{
 "cells": [
  {
   "cell_type": "code",
   "execution_count": 1,
   "metadata": {},
   "outputs": [],
   "source": [
    "import ConvolutionPoly as cp"
   ]
  },
  {
   "cell_type": "code",
   "execution_count": 2,
   "metadata": {},
   "outputs": [],
   "source": [
    "# implementation of inverse polynomial algorithm\n",
    "# described in DOI:10.1109/ICT-ISPC.2017.8075326\n",
    "# Also considering sourcing from\n",
    "'''\n",
    "Silverman,  J.H.,  Almost  Inverses  and  Fast  NTRU  Key  Creation.  \n",
    "NTRU  Cryptosystems,(Technical  Note#  014):  http://www.  ntru.  \n",
    "com/cryptolab/pdf/NTRU Tech014. pdf, 1999. \n",
    "'''\n",
    "def conv_inverse(a,N,q):\n",
    "    k,b,c,f,g,Fq = (0,1,ConvolutionPoly((0),rank=N)\n",
    "                ,a,ConvolutionPoly((0),rank=N),\n",
    "                ConvolutionPoly((0),rank=N))\n",
    "    g[0] = -1; g[1] = 1\n",
    "\n",
    "    while f[0] == 0:\n",
    "        for i in range(1,N):\n",
    "            f[i - 1] = f[i]\n",
    "            c[N + 1 - i] = c[N - i]\n",
    "        f[N] = 0; c[0] = 0\n",
    "        k = k+1\n",
    "    if deg(f) == 0:\n",
    "        return #not sure how to implement the code here\n",
    "    if deg(f) < deg(f):\n",
    "        temp = f\n",
    "        f = g, g = temp\n",
    "        temp = b\n",
    "        b = c,\n",
    "        c = temp\n",
    "    f = f+g\n",
    "    b = b+c    \n",
    "\n",
    "    j =0\n",
    "    k = k%N\n",
    "    for i in range(0, N-1):\n",
    "        j = (N-2 - i) - k\n",
    "        if j < 0:\n",
    "            j = j + N\n",
    "        Fq[j] = b[i]\n",
    "    v = 2\n",
    "    while v < q:\n",
    "        v = v*2\n",
    "\n"
   ]
  },
  {
   "cell_type": "code",
   "execution_count": 23,
   "metadata": {},
   "outputs": [],
   "source": [
    "# Here is another attempt via\n",
    "# DOI:10.1109/CIS.2011.201\n",
    "\n",
    "def convv_inverse(a):\n",
    "    # init vars\n",
    "    N = a.rank\n",
    "    p = a.char\n",
    "    b = cp.ConvolutionPoly([1])\n",
    "    c = cp.ConvolutionPoly([0])\n",
    "    Lg = [0]*N; Lg[-1] = 1; Lg[0] = -1\n",
    "    g = cp.ConvolutionPoly([Lg])\n",
    "    f = a\n",
    "    k = 0\n",
    "    k1 = 0\n",
    "    # print(N,p,b,c,g)\n",
    "    # print(f[0])\n",
    "    # print(f.degree)\n",
    "    # rotate f until constant coeff nonzero\n",
    "    while (f[0] == 0) & (f.degree !=0):\n",
    "        xmonomial = cp.ConvolutionPoly([0,1],N,p)\n",
    "        f = f * xmonomial\n",
    "        print(f)"
   ]
  },
  {
   "cell_type": "code",
   "execution_count": 24,
   "metadata": {},
   "outputs": [
    {
     "name": "stdout",
     "output_type": "stream",
     "text": [
      "x^2\n",
      "1\n"
     ]
    }
   ],
   "source": [
    "L = [0,-2,0,4,-1]\n",
    "K = [3,4,-2,5,2]\n",
    "P = cp.ConvolutionPoly(L,3,2)\n",
    "Q = cp.ConvolutionPoly(K,3,51)\n",
    "# print(P)\n",
    "P.degree\n",
    "convv_inverse(P)"
   ]
  },
  {
   "cell_type": "code",
   "execution_count": 5,
   "metadata": {},
   "outputs": [
    {
     "name": "stdout",
     "output_type": "stream",
     "text": [
      "56+79x^1+34x^2\n",
      "2+x^1+x^2\n",
      "-1+x^1+x^2\n"
     ]
    }
   ],
   "source": [
    "M = [10,22,34,46,57,0,0,0,0,0,0]\n",
    "R = cp.ConvolutionPoly(M,3)\n",
    "print(R)\n",
    "S = R.reduce_modulus(3)\n",
    "print(S)\n",
    "V = S.center_lift()\n",
    "print(V)"
   ]
  },
  {
   "cell_type": "code",
   "execution_count": 6,
   "metadata": {},
   "outputs": [
    {
     "data": {
      "text/plain": [
       "[1, 7, 10]"
      ]
     },
     "execution_count": 6,
     "metadata": {},
     "output_type": "execute_result"
    }
   ],
   "source": [
    "L = [1,2]\n",
    "N = [1,5]\n",
    "P = cp.ConvolutionPoly(L)\n",
    "R = cp.ConvolutionPoly(N)\n",
    "Q = P*R\n",
    "str(Q)\n",
    "Q.coeffs\n",
    "#Something breaks when i do multiplication in char=0 or rank=0 (works when these are nonzero it seems)\n"
   ]
  },
  {
   "cell_type": "code",
   "execution_count": 61,
   "metadata": {},
   "outputs": [
    {
     "data": {
      "text/plain": [
       "10"
      ]
     },
     "execution_count": 61,
     "metadata": {},
     "output_type": "execute_result"
    }
   ],
   "source": [
    "\n"
   ]
  }
 ],
 "metadata": {
  "interpreter": {
   "hash": "dc34f43da020cec24994edbf04fa7028c83db5ba05afdffac6088b160fd2cbcf"
  },
  "kernelspec": {
   "display_name": "Python 3.8.8 64-bit ('base': conda)",
   "name": "python3"
  },
  "language_info": {
   "codemirror_mode": {
    "name": "ipython",
    "version": 3
   },
   "file_extension": ".py",
   "mimetype": "text/x-python",
   "name": "python",
   "nbconvert_exporter": "python",
   "pygments_lexer": "ipython3",
   "version": "3.8.8"
  },
  "orig_nbformat": 4
 },
 "nbformat": 4,
 "nbformat_minor": 2
}
