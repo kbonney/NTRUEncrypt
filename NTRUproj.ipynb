{
 "cells": [
  {
   "cell_type": "code",
   "execution_count": 112,
   "metadata": {},
   "outputs": [],
   "source": [
    "from itertools import zip_longest\n",
    "class convolution_poly():\n",
    "    def __init__(self,L):\n",
    "        \"\"\" coeffs are given as [a_0,...,a_n]\n",
    "        \"\"\"\n",
    "        self.coeffs = L\n",
    "        \"\"\" messy calculation for degree. TODO: clean this up\n",
    "        \"\"\"\n",
    "        i = 0\n",
    "        d = 0\n",
    "        while i < len(L):\n",
    "            if not (L[i] == 0):\n",
    "                d=i\n",
    "            i += 1\n",
    "        self.degree = d\n",
    "\n",
    "    \"\"\" my first idea for printing the polynomial in a nice way\n",
    "    \"\"\"\n",
    "    def __str__(self):\n",
    "        newL = []\n",
    "        for i in range(len(self.coeffs)):\n",
    "            if not self.coeffs[i] == 0:\n",
    "                if i == 0:\n",
    "                    newL.append(str(self.coeffs[i]))\n",
    "                if i > 0:\n",
    "                    if self.coeffs[i] == -1:\n",
    "                        newL.append('-x^'+str(i))\n",
    "                    elif self.coeffs[i] == 1:\n",
    "                        newL.append('x^'+str(i))\n",
    "                    else:\n",
    "                        newL.append(str(self.coeffs[i])+'x^'+str(i))\n",
    "        plses = ['+'] * (len(newL) - 1)\n",
    "        poly = [None]*(len(newL)+(len(newL)-1))\n",
    "        poly[::2] = newL\n",
    "        poly[1::2] = plses\n",
    "        if newL == []:\n",
    "            return \"0\"\n",
    "        else:\n",
    "            return ''.join(poly)\n",
    "    \"\"\" defining addition of convolution polynomials\n",
    "    \"\"\"\n",
    "    def __add__(self, other):\n",
    "        c1 = self.coeffs\n",
    "        c2 = other.coeffs\n",
    "        res = [sum(t) for t in zip_longest(c1,c2,fillvalue=0)]\n",
    "        return convolution_poly(res)\n",
    "\n",
    "    \"\"\" defining subtraction of convolution polynomials\n",
    "    \"\"\"\n",
    "    def __add__(self, other):\n",
    "        c1 = self.coeffs\n",
    "        c2 = other.coeffs\n",
    "        res = t1 - t2 for t1, t2 in zip_longest(c1,c2,fillvalue=0)]\n",
    "        return convolution_poly(res)\n",
    "        \n",
    "             "
   ]
  },
  {
   "cell_type": "code",
   "execution_count": 108,
   "metadata": {},
   "outputs": [
    {
     "name": "stdout",
     "output_type": "stream",
     "text": [
      "1 2 3\n",
      "1 2 3\n"
     ]
    }
   ],
   "source": [
    "L = [1,2,3]\n",
    "\n",
    "print(*L)\n",
    "print(1,2,3)"
   ]
  },
  {
   "cell_type": "code",
   "execution_count": 109,
   "metadata": {},
   "outputs": [
    {
     "name": "stdout",
     "output_type": "stream",
     "text": [
      "6\n"
     ]
    }
   ],
   "source": [
    "L = [1,1,3,0,6,9,8]\n",
    "P = convolution_poly(L)\n",
    "L=[4]\n",
    "print(P.degree)\n"
   ]
  },
  {
   "cell_type": "code",
   "execution_count": 110,
   "metadata": {},
   "outputs": [
    {
     "data": {
      "text/plain": [
       "'1+x^1+3x^2+6x^4+9x^5+8x^6'"
      ]
     },
     "execution_count": 110,
     "metadata": {},
     "output_type": "execute_result"
    }
   ],
   "source": [
    "str(P)"
   ]
  },
  {
   "cell_type": "code",
   "execution_count": 111,
   "metadata": {},
   "outputs": [
    {
     "data": {
      "text/plain": [
       "[1, 3, 4, 0, 6, 9, 8]"
      ]
     },
     "execution_count": 111,
     "metadata": {},
     "output_type": "execute_result"
    }
   ],
   "source": [
    "K = [0,2,1]\n",
    "Q = convolution_poly(K)\n",
    "J=P+Q\n",
    "J.coeffs"
   ]
  },
  {
   "cell_type": "markdown",
   "metadata": {},
   "source": [
    "# Test\n",
    "$\\beta$\n",
    "{{a}}"
   ]
  }
 ],
 "metadata": {
  "interpreter": {
   "hash": "dc34f43da020cec24994edbf04fa7028c83db5ba05afdffac6088b160fd2cbcf"
  },
  "kernelspec": {
   "display_name": "Python 3.8.8 64-bit ('base': conda)",
   "name": "python3"
  },
  "language_info": {
   "codemirror_mode": {
    "name": "ipython",
    "version": 3
   },
   "file_extension": ".py",
   "mimetype": "text/x-python",
   "name": "python",
   "nbconvert_exporter": "python",
   "pygments_lexer": "ipython3",
   "version": "3.8.8"
  },
  "orig_nbformat": 4
 },
 "nbformat": 4,
 "nbformat_minor": 2
}
