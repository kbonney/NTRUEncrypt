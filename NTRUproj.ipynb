{
 "cells": [
  {
   "cell_type": "code",
   "execution_count": 71,
   "metadata": {},
   "outputs": [],
   "source": [
    "from itertools import zip_longest\n",
    "class convolution_poly():\n",
    "    def __init__(self,L,rank, char=0):\n",
    "        \"\"\" coeffs are given as [a_0,...,a_n]\n",
    "        \"\"\"\n",
    "\n",
    "        self.coeffs = L\n",
    "\n",
    "        self.rank = rank\n",
    "\n",
    "        \"\"\" messy calculation for degree. goal was to ignore tailing zeroes\n",
    "        TODO: clean this up\n",
    "        \"\"\"\n",
    "        i = 0\n",
    "        d = 0\n",
    "        while i < len(L):\n",
    "            if not (L[i] == 0):\n",
    "                d=i\n",
    "            i += 1\n",
    "        self.degree = d\n",
    "\n",
    "    \"\"\" my first idea for printing the polynomial in a nice way\n",
    "        TODO: handle negative coefficients\n",
    "    \"\"\"\n",
    "    def __str__(self):\n",
    "        \"\"\" create a new list of coefficients as strings with the appropriate x\n",
    "        monomial\n",
    "        \"\"\"\n",
    "        newL = []\n",
    "        for i in range(len(self.coeffs)):\n",
    "            if not self.coeffs[i] == 0:\n",
    "                if i == 0:\n",
    "                    newL.append(str(self.coeffs[i]))\n",
    "                if i > 0:\n",
    "                    if self.coeffs[i] == -1:\n",
    "                        newL.append('-x^'+str(i))\n",
    "                    elif self.coeffs[i] == 1:\n",
    "                        newL.append('x^'+str(i))\n",
    "                    else:\n",
    "                        newL.append(str(self.coeffs[i])+'x^'+str(i))\n",
    "        plses = ['+'] * (len(newL) - 1)\n",
    "        poly = [None]*(len(newL)+(len(newL)-1))\n",
    "        poly[::2] = newL\n",
    "        poly[1::2] = plses\n",
    "        if newL == []:\n",
    "            return \"0\"\n",
    "        else:\n",
    "            return ''.join(poly)\n",
    "    \"\"\" defining addition of convolution polynomials\n",
    "    \"\"\"\n",
    "    def __add__(self, other):\n",
    "        c1 = self.coeffs\n",
    "        c2 = other.coeffs\n",
    "        res = [sum(t) for t in zip_longest(c1,c2,fillvalue=0)]\n",
    "        return convolution_poly(res)\n",
    "\n",
    "    \"\"\" defining subtraction of convolution polynomials\n",
    "    \"\"\"\n",
    "    def __sub__(self, other):\n",
    "        c1 = self.coeffs\n",
    "        c2 = other.coeffs\n",
    "        res = [t1 - t2 for t1, t2 in zip_longest(c1,c2,fillvalue=0)]\n",
    "        return convolution_poly(res)\n",
    "    \n",
    "    \"\"\" defining multiplication (convolution) of convolution polynomials\n",
    "        still very in progress. wondering if i need to define this taking\n",
    "        the convolution structure into account. rather, i am thinking of\n",
    "        having the class automatically reduce a normal polynomial\n",
    "        into a convolutional one (reducing powers modulo N). that way\n",
    "        i can just define usual multiplication and then reduce. not sure\n",
    "        if one way is better than another...\n",
    "    \"\"\"\n",
    "    def __mul__(self, other):\n",
    "        # finds pairs i,j such that i+j equivalent to k modulo n\n",
    "        def indexfinder(n,k):\n",
    "            indices = []\n",
    "            for i in range(0,n):\n",
    "                indices.append([i,(n+k-i)%n])\n",
    "            return indices\n",
    "\n",
    "        #def coeffprep(L1,L2):\n",
    "            \n",
    "        c1 = self.coeffs\n",
    "        c2 = other.coeffs\n",
    "        cdegree = self.degree*other.degree\n",
    "        c = [0]*(cdegree)\n",
    "        for k in range(0,self.rank):\n",
    "            c[k] = []\n",
    "    \n",
    "        res = [t1*t2 for t1, t2 in zip_longest(c1,c2,fillvalue=0)]\n",
    "        return convolution_poly(res)\n",
    "\n",
    "    \n",
    "        \n",
    "             "
   ]
  },
  {
   "cell_type": "code",
   "execution_count": 72,
   "metadata": {},
   "outputs": [
    {
     "name": "stdout",
     "output_type": "stream",
     "text": [
      "1 2 3\n",
      "1 2 3\n"
     ]
    }
   ],
   "source": [
    "L = [1,2,3]\n",
    "\n",
    "print(*L)\n",
    "print(1,2,3)"
   ]
  },
  {
   "cell_type": "code",
   "execution_count": 73,
   "metadata": {},
   "outputs": [],
   "source": [
    "L = [1,1,-3,0,-6,9,8]\n",
    "K = [0,2,1,100,-6]\n",
    "P = convolution_poly(L)\n",
    "Q = convolution_poly(K)\n"
   ]
  },
  {
   "cell_type": "code",
   "execution_count": 74,
   "metadata": {},
   "outputs": [
    {
     "data": {
      "text/plain": [
       "'1+x^1+-3x^2+-6x^4+9x^5+8x^6'"
      ]
     },
     "execution_count": 74,
     "metadata": {},
     "output_type": "execute_result"
    }
   ],
   "source": [
    "str(P)"
   ]
  },
  {
   "cell_type": "code",
   "execution_count": 75,
   "metadata": {},
   "outputs": [
    {
     "data": {
      "text/plain": [
       "'1+-x^1+-4x^2+-100x^3+9x^5+8x^6'"
      ]
     },
     "execution_count": 75,
     "metadata": {},
     "output_type": "execute_result"
    }
   ],
   "source": [
    "J=P*Q\n",
    "J.coeffs\n",
    "str(J)"
   ]
  },
  {
   "cell_type": "code",
   "execution_count": 84,
   "metadata": {},
   "outputs": [
    {
     "name": "stdout",
     "output_type": "stream",
     "text": [
      "[0, 0]\n",
      "[1, 4]\n",
      "[2, 3]\n",
      "[3, 2]\n",
      "[4, 1]\n",
      "[[0, 3], [1, 2], [2, 1], [3, 0], [4, 4]]\n"
     ]
    }
   ],
   "source": [
    "#testing index finder\n",
    "def indexfinder(n,k):\n",
    "    indices = []\n",
    "    for i in range(0,n):\n",
    "        indices.append([i,(n+k-i)%n])\n",
    "        print([i,(n-i)%n])\n",
    "    return indices\n",
    "\n",
    "print(indexfinder(5,3))"
   ]
  },
  {
   "cell_type": "markdown",
   "metadata": {},
   "source": [
    "# Test\n",
    "$\\beta$\n",
    "{{a}}"
   ]
  }
 ],
 "metadata": {
  "interpreter": {
   "hash": "dc34f43da020cec24994edbf04fa7028c83db5ba05afdffac6088b160fd2cbcf"
  },
  "kernelspec": {
   "display_name": "Python 3.8.8 64-bit ('base': conda)",
   "name": "python3"
  },
  "language_info": {
   "codemirror_mode": {
    "name": "ipython",
    "version": 3
   },
   "file_extension": ".py",
   "mimetype": "text/x-python",
   "name": "python",
   "nbconvert_exporter": "python",
   "pygments_lexer": "ipython3",
   "version": "3.8.8"
  },
  "orig_nbformat": 4
 },
 "nbformat": 4,
 "nbformat_minor": 2
}
